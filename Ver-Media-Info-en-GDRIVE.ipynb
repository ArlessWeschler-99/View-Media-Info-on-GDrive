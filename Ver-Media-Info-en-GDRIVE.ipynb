{
  "nbformat": 4,
  "nbformat_minor": 0,
  "metadata": {
    "colab": {
      "name": "Extraer MediaInfo en GDrive",
      "provenance": [],
      "collapsed_sections": [
        "uGAJFdQNdUcM",
        "Cqy3vXXOMI06",
        "zRTgBdCpBWMh",
        "cOUZEXihsqCD",
        "bNAroQWy6hL3",
        "wZMZjX127rmx",
        "Ov6PHWiF4QuO",
        "ercDPZ6CIlVz",
        "4E-uzYrv5o0B",
        "NkFQ5VDxpteH",
        "JnIOQZ2I-aDT",
        "StT2bKf2WmKj",
        "Ttv0CeCqLX0t",
        "AGVmJ2Y43o_C",
        "7dTNq8TFD6a-",
        "VDInERXVmnm8",
        "PE5J1UDzQXSp",
        "SoxLe8ciEyAc",
        "A0y8bdJSpbmD",
        "WanlireZOjvx",
        "WMWJ2mDPBoEx",
        "6wktcwkWtHH0",
        "xa8RqAm2wozX",
        "n2ZDFNPw9BPE",
        "63bRZrGJEZnI",
        "PGMUhd7sVOY9",
        "fJ7W2Z0gcYa5",
        "3di4eNDqStBp",
        "C2--6Vt2uBIj",
        "cHTe9qp2E6f5",
        "7wez354M4ZeV",
        "kSvUMUuTPX7r",
        "dySANcIIMdFU",
        "ex_k738n2mO3",
        "zajDdD9kKNw9",
        "c3cOMk38t8Zm",
        "nnK31oX-jC5p",
        "eplOxOmrjC7R",
        "boIJhB5zjC76",
        "NKQKbbO5jC8f",
        "ukxnQC4c0nuR",
        "EFOqhHG6hOVH",
        "RDHuIkoi6l9a",
        "NQ0TxfKeghR8",
        "FpJXJiRl6-gK",
        "2f-THZmDoOaY",
        "MSUasbRUDP3B",
        "dHsPVmB0Ot4F",
        "yakbThfRnJr1",
        "SNDGdMRn3PA-",
        "KFcIThDuBii_",
        "8qgQqQyD3kvv",
        "Fj7AI-wW9KKU",
        "GahMjYf8miNs",
        "NqB2mnt78bxA",
        "-4LLBs7U06a5",
        "7-3O4en4C4IL",
        "Ja95mvvq8oei",
        "QlsUJhNwyeV3",
        "SWJ1Dl42VvVt",
        "INCWjTDRLye6",
        "4rMlpsk3jv5r",
        "-9RhonZDwNYC",
        "yL1BRPGVwfbt",
        "1EP1o4UDLS6f",
        "bOOBrzjbEGo_",
        "0xI8WiUPji3k",
        "dJcI3M0oD5bJ",
        "zwnehE_ln7A4",
        "cau5CTZPUu-n",
        "SdrIv5gpjTfw",
        "STq65Y8NlBSX",
        "YKlMJI6CFvzN"
      ],
      "machine_shape": "hm",
      "include_colab_link": true
    },
    "kernelspec": {
      "name": "python3",
      "display_name": "Python 3"
    }
  },
  "cells": [
    {
      "cell_type": "markdown",
      "metadata": {
        "id": "view-in-github",
        "colab_type": "text"
      },
      "source": [
        "<a href=\"https://colab.research.google.com/github/arlessweschler/Codemaster/blob/master/Obten_MediaInfo_on_GDrive.ipynb\" target=\"_parent\"><img src=\"https://colab.research.google.com/assets/colab-badge.svg\" alt=\"Open In Colab\"/></a>"
      ]
    },
    {
        {
      "cell_type": "markdown",
      "metadata": {
        "colab_type": "text",
        "id": "uGAJFdQNdUcM"
      },
      "source": [
        "# <center><b>MediaInfo</b><h5>Obtén MediaInfo directamente en tu <b>GDrive o TeamDrive</b></center></h5>"
      ]
    },
    {
      "cell_type": "markdown",
      "metadata": {
        "colab_type": "text",
        "id": "ercDPZ6CIlVz"
      },
      "source": [
        "# <img src=\"https://upload.wikimedia.org/wikipedia/commons/thumb/d/da/Google_Drive_logo.png/600px-Google_Drive_logo.png\" height=30px>      Montar / Desmontar tu GDrive!"
      ]
    },
    {
      "cell_type": "code",
      "metadata": {
        "colab_type": "code",
        "cellView": "form",
        "id": "U2avD1zRIlWA",
        "colab": {}
      },
      "source": [
        "#@markdown <br><center><img src='https://upload.wikimedia.org/wikipedia/commons/thumb/d/da/Google_Drive_logo.png/600px-Google_Drive_logo.png' height=\"50\" alt=\"Gdrive logo\"/></center>\n",
        "#@markdown <center><h3>Mount Gdrive to /content/drive</h3></center><br>\n",
        "MODE = \"MOUNT\" #@param [\"MOUNT\", \"UNMOUNT\"]\n",
        "#Mount your Gdrive! \n",
        "from google.colab import drive\n",
        "drive.mount._DEBUG = False\n",
        "if MODE == \"MOUNT\":\n",
        "  drive.mount('/content/drive', force_remount=True)\n",
